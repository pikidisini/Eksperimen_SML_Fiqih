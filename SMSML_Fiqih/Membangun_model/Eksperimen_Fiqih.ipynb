{
  "cells": [
    {
      "cell_type": "markdown",
      "metadata": {
        "id": "kZLRMFl0JyyQ"
      },
      "source": [
        "# **1. Perkenalan Dataset** - NASA Turbofan Engine Degradation Simulation (C-MAPSS)\n"
      ]
    },
    {
      "cell_type": "markdown",
      "metadata": {
        "id": "hssSDn-5n3HR"
      },
      "source": [
        "Dataset ini merupakan data C-MAPSS. C-MAPSS (Commercial Modular Aero-Propulsion System Simulation) adalah simulator yang dikembangkan oleh NASA untuk membuat data sensor dari mesin turbofan (seperti mesin jet di pesawat) yang beroperasi sampai mengalami kerusakan (run-to-failure). Dataset ini dirancang untuk Mensimulasikan bagaimana mesin mengalami degradasi seiring waktu dan bagaimana kerusakan bisa diprediksi dari data sensor.\n",
        "\n",
        "- Setiap baris data = 1 siklus operasional mesin (satu kali terbang).\n",
        "- Setiap kolom = informasi tentang kondisi mesin saat siklus tersebut.\n",
        "\n",
        "**Nama dan Keterangan Kolom-Kolom**\n",
        "- kolom 1 **unit_number**: Nomor Mesin / Identitas Mesin\n",
        "- kolom 2 **time_in_cycles**: Urutan waktu/siklus terbang (1, 2, 3, … hingga rusak)\n",
        "- kolom 3-5 **operational_setting_1-3**: Kondisi operasional (misalnya tekanan, suhu lingkungan, dll. Namun tidak dijelaskan secara detail oleh NASA)\n",
        "- kolom 6-26 **sensor_1** s/d **sensor_21**: Data dari berbagai sensor internal mesin (getaran, suhu, tekanan, dll)\n"
      ]
    },
    {
      "cell_type": "markdown",
      "metadata": {
        "id": "fKADPWcFKlj3"
      },
      "source": [
        "# **2. Import Library**"
      ]
    },
    {
      "cell_type": "markdown",
      "metadata": {
        "id": "LgA3ERnVn84N"
      },
      "source": [
        "import semua package dan library yang dibutuhkan"
      ]
    },
    {
      "cell_type": "code",
      "execution_count": 3,
      "metadata": {
        "id": "BlmvjLY9M4Yj"
      },
      "outputs": [],
      "source": [
        "import pandas as pd\n",
        "import numpy as np\n",
        "import matplotlib.pyplot as plt\n",
        "import seaborn as sns\n",
        "import os"
      ]
    },
    {
      "cell_type": "markdown",
      "metadata": {
        "id": "f3YIEnAFKrKL"
      },
      "source": [
        "# **3. Memuat Dataset**"
      ]
    },
    {
      "cell_type": "markdown",
      "metadata": {
        "id": "Ey3ItwTen_7E"
      },
      "source": [
        "Membaca seluruh dataset, memberikan nama pada seluruh variabel/fitur dan menghapus kolom kosong di akhir baris"
      ]
    },
    {
      "cell_type": "code",
      "execution_count": 4,
      "metadata": {
        "id": "GHCGNTyrM5fS"
      },
      "outputs": [],
      "source": [
        "def load_raw_data(file_path):\n",
        "    \"\"\"\n",
        "    Load data mentah dari NASA Turbofan FD001\n",
        "    \"\"\"\n",
        "    column_names = ['unit', 'time_in_cycles', 'op_setting_1', 'op_setting_2', 'op_setting_3'] + \\\n",
        "                   [f'sensor_{i}' for i in range(1, 22)]\n",
        "    \n",
        "    df = pd.read_csv(file_path, sep=' ', header=None)\n",
        "    df.dropna(axis=1, how='all', inplace=True)\n",
        "    df.columns = column_names\n",
        "    return df\n",
        "\n",
        "raw_path = \"nasa_preprocessing/raw/train_FD001.txt\"  # sesuaikan path jika beda\n",
        "column_names = ['unit', 'time_in_cycles', 'op_setting_1', 'op_setting_2', 'op_setting_3'] + [f'sensor_{i}' for i in range(1, 22)]\n",
        "df = load_raw_data(raw_path)\n",
        "df.dropna(axis=1, how='all', inplace=True)\n",
        "df.columns = column_names"
      ]
    },
    {
      "cell_type": "code",
      "execution_count": 5,
      "metadata": {},
      "outputs": [
        {
          "name": "stdout",
          "output_type": "stream",
          "text": [
            "Jumlah unit engine: 100\n"
          ]
        },
        {
          "data": {
            "text/html": [
              "<div>\n",
              "<style scoped>\n",
              "    .dataframe tbody tr th:only-of-type {\n",
              "        vertical-align: middle;\n",
              "    }\n",
              "\n",
              "    .dataframe tbody tr th {\n",
              "        vertical-align: top;\n",
              "    }\n",
              "\n",
              "    .dataframe thead th {\n",
              "        text-align: right;\n",
              "    }\n",
              "</style>\n",
              "<table border=\"1\" class=\"dataframe\">\n",
              "  <thead>\n",
              "    <tr style=\"text-align: right;\">\n",
              "      <th></th>\n",
              "      <th>unit</th>\n",
              "      <th>time_in_cycles</th>\n",
              "      <th>op_setting_1</th>\n",
              "      <th>op_setting_2</th>\n",
              "      <th>op_setting_3</th>\n",
              "      <th>sensor_1</th>\n",
              "      <th>sensor_2</th>\n",
              "      <th>sensor_3</th>\n",
              "      <th>sensor_4</th>\n",
              "      <th>sensor_5</th>\n",
              "      <th>...</th>\n",
              "      <th>sensor_12</th>\n",
              "      <th>sensor_13</th>\n",
              "      <th>sensor_14</th>\n",
              "      <th>sensor_15</th>\n",
              "      <th>sensor_16</th>\n",
              "      <th>sensor_17</th>\n",
              "      <th>sensor_18</th>\n",
              "      <th>sensor_19</th>\n",
              "      <th>sensor_20</th>\n",
              "      <th>sensor_21</th>\n",
              "    </tr>\n",
              "  </thead>\n",
              "  <tbody>\n",
              "    <tr>\n",
              "      <th>0</th>\n",
              "      <td>1</td>\n",
              "      <td>1</td>\n",
              "      <td>-0.0007</td>\n",
              "      <td>-0.0004</td>\n",
              "      <td>100.0</td>\n",
              "      <td>518.67</td>\n",
              "      <td>641.82</td>\n",
              "      <td>1589.70</td>\n",
              "      <td>1400.60</td>\n",
              "      <td>14.62</td>\n",
              "      <td>...</td>\n",
              "      <td>521.66</td>\n",
              "      <td>2388.02</td>\n",
              "      <td>8138.62</td>\n",
              "      <td>8.4195</td>\n",
              "      <td>0.03</td>\n",
              "      <td>392</td>\n",
              "      <td>2388</td>\n",
              "      <td>100.0</td>\n",
              "      <td>39.06</td>\n",
              "      <td>23.4190</td>\n",
              "    </tr>\n",
              "    <tr>\n",
              "      <th>1</th>\n",
              "      <td>1</td>\n",
              "      <td>2</td>\n",
              "      <td>0.0019</td>\n",
              "      <td>-0.0003</td>\n",
              "      <td>100.0</td>\n",
              "      <td>518.67</td>\n",
              "      <td>642.15</td>\n",
              "      <td>1591.82</td>\n",
              "      <td>1403.14</td>\n",
              "      <td>14.62</td>\n",
              "      <td>...</td>\n",
              "      <td>522.28</td>\n",
              "      <td>2388.07</td>\n",
              "      <td>8131.49</td>\n",
              "      <td>8.4318</td>\n",
              "      <td>0.03</td>\n",
              "      <td>392</td>\n",
              "      <td>2388</td>\n",
              "      <td>100.0</td>\n",
              "      <td>39.00</td>\n",
              "      <td>23.4236</td>\n",
              "    </tr>\n",
              "    <tr>\n",
              "      <th>2</th>\n",
              "      <td>1</td>\n",
              "      <td>3</td>\n",
              "      <td>-0.0043</td>\n",
              "      <td>0.0003</td>\n",
              "      <td>100.0</td>\n",
              "      <td>518.67</td>\n",
              "      <td>642.35</td>\n",
              "      <td>1587.99</td>\n",
              "      <td>1404.20</td>\n",
              "      <td>14.62</td>\n",
              "      <td>...</td>\n",
              "      <td>522.42</td>\n",
              "      <td>2388.03</td>\n",
              "      <td>8133.23</td>\n",
              "      <td>8.4178</td>\n",
              "      <td>0.03</td>\n",
              "      <td>390</td>\n",
              "      <td>2388</td>\n",
              "      <td>100.0</td>\n",
              "      <td>38.95</td>\n",
              "      <td>23.3442</td>\n",
              "    </tr>\n",
              "    <tr>\n",
              "      <th>3</th>\n",
              "      <td>1</td>\n",
              "      <td>4</td>\n",
              "      <td>0.0007</td>\n",
              "      <td>0.0000</td>\n",
              "      <td>100.0</td>\n",
              "      <td>518.67</td>\n",
              "      <td>642.35</td>\n",
              "      <td>1582.79</td>\n",
              "      <td>1401.87</td>\n",
              "      <td>14.62</td>\n",
              "      <td>...</td>\n",
              "      <td>522.86</td>\n",
              "      <td>2388.08</td>\n",
              "      <td>8133.83</td>\n",
              "      <td>8.3682</td>\n",
              "      <td>0.03</td>\n",
              "      <td>392</td>\n",
              "      <td>2388</td>\n",
              "      <td>100.0</td>\n",
              "      <td>38.88</td>\n",
              "      <td>23.3739</td>\n",
              "    </tr>\n",
              "    <tr>\n",
              "      <th>4</th>\n",
              "      <td>1</td>\n",
              "      <td>5</td>\n",
              "      <td>-0.0019</td>\n",
              "      <td>-0.0002</td>\n",
              "      <td>100.0</td>\n",
              "      <td>518.67</td>\n",
              "      <td>642.37</td>\n",
              "      <td>1582.85</td>\n",
              "      <td>1406.22</td>\n",
              "      <td>14.62</td>\n",
              "      <td>...</td>\n",
              "      <td>522.19</td>\n",
              "      <td>2388.04</td>\n",
              "      <td>8133.80</td>\n",
              "      <td>8.4294</td>\n",
              "      <td>0.03</td>\n",
              "      <td>393</td>\n",
              "      <td>2388</td>\n",
              "      <td>100.0</td>\n",
              "      <td>38.90</td>\n",
              "      <td>23.4044</td>\n",
              "    </tr>\n",
              "  </tbody>\n",
              "</table>\n",
              "<p>5 rows × 26 columns</p>\n",
              "</div>"
            ],
            "text/plain": [
              "   unit  time_in_cycles  op_setting_1  op_setting_2  op_setting_3  sensor_1  \\\n",
              "0     1               1       -0.0007       -0.0004         100.0    518.67   \n",
              "1     1               2        0.0019       -0.0003         100.0    518.67   \n",
              "2     1               3       -0.0043        0.0003         100.0    518.67   \n",
              "3     1               4        0.0007        0.0000         100.0    518.67   \n",
              "4     1               5       -0.0019       -0.0002         100.0    518.67   \n",
              "\n",
              "   sensor_2  sensor_3  sensor_4  sensor_5  ...  sensor_12  sensor_13  \\\n",
              "0    641.82   1589.70   1400.60     14.62  ...     521.66    2388.02   \n",
              "1    642.15   1591.82   1403.14     14.62  ...     522.28    2388.07   \n",
              "2    642.35   1587.99   1404.20     14.62  ...     522.42    2388.03   \n",
              "3    642.35   1582.79   1401.87     14.62  ...     522.86    2388.08   \n",
              "4    642.37   1582.85   1406.22     14.62  ...     522.19    2388.04   \n",
              "\n",
              "   sensor_14  sensor_15  sensor_16  sensor_17  sensor_18  sensor_19  \\\n",
              "0    8138.62     8.4195       0.03        392       2388      100.0   \n",
              "1    8131.49     8.4318       0.03        392       2388      100.0   \n",
              "2    8133.23     8.4178       0.03        390       2388      100.0   \n",
              "3    8133.83     8.3682       0.03        392       2388      100.0   \n",
              "4    8133.80     8.4294       0.03        393       2388      100.0   \n",
              "\n",
              "   sensor_20  sensor_21  \n",
              "0      39.06    23.4190  \n",
              "1      39.00    23.4236  \n",
              "2      38.95    23.3442  \n",
              "3      38.88    23.3739  \n",
              "4      38.90    23.4044  \n",
              "\n",
              "[5 rows x 26 columns]"
            ]
          },
          "execution_count": 5,
          "metadata": {},
          "output_type": "execute_result"
        }
      ],
      "source": [
        "print(\"Jumlah unit engine:\", df['unit'].nunique())\n",
        "df.head()"
      ]
    },
    {
      "cell_type": "code",
      "execution_count": 6,
      "metadata": {},
      "outputs": [
        {
          "name": "stdout",
          "output_type": "stream",
          "text": [
            "Kolom dalam dataframe: ['unit', 'time_in_cycles', 'op_setting_1', 'op_setting_2', 'op_setting_3', 'sensor_1', 'sensor_2', 'sensor_3', 'sensor_4', 'sensor_5', 'sensor_6', 'sensor_7', 'sensor_8', 'sensor_9', 'sensor_10', 'sensor_11', 'sensor_12', 'sensor_13', 'sensor_14', 'sensor_15', 'sensor_16', 'sensor_17', 'sensor_18', 'sensor_19', 'sensor_20', 'sensor_21']\n"
          ]
        }
      ],
      "source": [
        "# 1. Load data\n",
        "df_csv = pd.read_csv(\"nasa_preprocessing/clean/train_FD001_clean.csv\")\n",
        "\n",
        "print(\"Kolom dalam dataframe:\", df.columns.tolist())"
      ]
    },
    {
      "cell_type": "markdown",
      "metadata": {
        "id": "bgZkbJLpK9UR"
      },
      "source": [
        "# **4. Exploratory Data Analysis (EDA)**\n",
        "\n",
        "Pada tahap ini, Anda akan melakukan **Exploratory Data Analysis (EDA)** untuk memahami karakteristik dataset.\n",
        "\n",
        "Tujuan dari EDA adalah untuk memperoleh wawasan awal yang mendalam mengenai data dan menentukan langkah selanjutnya dalam analisis atau pemodelan."
      ]
    },
    {
      "cell_type": "code",
      "execution_count": 7,
      "metadata": {
        "id": "dKeejtvxM6X1"
      },
      "outputs": [
        {
          "data": {
            "image/png": "[encoded data removed]",
            "text/plain": [
              "<Figure size 640x480 with 1 Axes>"
            ]
          },
          "metadata": {},
          "output_type": "display_data"
        },
        {
          "data": {
            "image/png": "[encoded data removed]",
            "text/plain": [
              "<Figure size 640x480 with 1 Axes>"
            ]
          },
          "metadata": {},
          "output_type": "display_data"
        }
      ],
      "source": [
        "# Distribusi umur maksimum mesin\n",
        "max_cycle = df.groupby('unit')['time_in_cycles'].max()\n",
        "sns.histplot(max_cycle, bins=30, kde=True)\n",
        "plt.title(\"Distribusi umur mesin (cycles sampai rusak)\")\n",
        "plt.xlabel(\"Umur mesin (cycles)\")\n",
        "plt.ylabel(\"Jumlah unit\")\n",
        "plt.show()\n",
        "\n",
        "# Contoh tren sensor\n",
        "sensor_cols = [f'sensor_{i}' for i in range(1, 6)]\n",
        "df_sample = df[df['unit'] == 1]\n",
        "\n",
        "for sensor in sensor_cols:\n",
        "    plt.plot(df_sample['time_in_cycles'], df_sample[sensor], label=sensor)\n",
        "\n",
        "plt.title(\"Contoh Tren Sensor (Unit 1)\")\n",
        "plt.xlabel(\"Cycle\")\n",
        "plt.ylabel(\"Sensor Value\")\n",
        "plt.legend()\n",
        "plt.show()\n"
      ]
    },
    {
      "cell_type": "code",
      "execution_count": 11,
      "metadata": {},
      "outputs": [
        {
          "data": {
            "image/png": "[encoded data removed]",
            "text/plain": [
              "<Figure size 640x480 with 1 Axes>"
            ]
          },
          "metadata": {},
          "output_type": "display_data"
        },
        {
          "data": {
            "text/plain": [
              "count    100.000000\n",
              "mean     206.310000\n",
              "std       46.342749\n",
              "min      128.000000\n",
              "25%      177.000000\n",
              "50%      199.000000\n",
              "75%      229.250000\n",
              "max      362.000000\n",
              "Name: time_in_cycles, dtype: float64"
            ]
          },
          "execution_count": 11,
          "metadata": {},
          "output_type": "execute_result"
        }
      ],
      "source": [
        "lifespan = df_csv.groupby('unit')['time_in_cycles'].max()\n",
        "lifespan.hist(bins=20)\n",
        "plt.title(\"Distribusi Waktu Hidup Mesin (Training)\")\n",
        "plt.xlabel(\"Jumlah Siklus Sampai Gagal\")\n",
        "plt.ylabel(\"Jumlah Mesin\")\n",
        "plt.show()\n",
        "\n",
        "lifespan.describe()"
      ]
    },
    {
      "cell_type": "markdown",
      "metadata": {},
      "source": [
        "Berdasarkan distribusi waktu hidup mesin yang ditampilkan, ada beberapa kesimpulan:\n",
        "-  **Analisis Distribusi:**\n",
        "    - Rata-rata Waktu Hidup Mesin (mean): Rata-rata waktu hidup mesin adalah sekitar 206 siklus, dengan rentang nilai antara 128 hingga 362 siklus.\n",
        "    - Variasi Waktu Hidup Mesin (std): Ada variasi yang cukup besar (sekitar 46 siklus) antara mesin yang memiliki waktu hidup pendek dan panjang.\n",
        "    - Median (50%): Nilai median dari waktu hidup mesin adalah 199 siklus, yang sedikit lebih rendah dari rata-rata, menunjukkan bahwa sebagian besar mesin memiliki waktu hidup yang relatif lebih pendek daripada rata-rata.\n",
        "    - Distribusi: Dalam histogram, Anda dapat melihat bahwa sebagian besar mesin cenderung gagal dalam rentang 170-230 siklus, dengan beberapa mesin yang memiliki waktu hidup yang jauh lebih panjang, mendekati nilai maksimum 362 siklus."
      ]
    },
    {
      "cell_type": "markdown",
      "metadata": {
        "id": "cpgHfgnSK3ip"
      },
      "source": [
        "# **5. Data Preprocessing**"
      ]
    },
    {
      "cell_type": "markdown",
      "metadata": {
        "id": "COf8KUPXLg5r"
      },
      "source": [
        "- **Remaining Useful Life (RUL)**, adalah konsep yang digunakan dalam konteks prediktif maintenance (pemeliharaan prediktif). RUL merujuk pada perkiraan waktu atau jumlah siklus operasional yang tersisa sebelum sebuah mesin atau komponen gagal atau mengalami kerusakan yang signifikan. dengan kata lain, **Remaining Useful Life (RUL)** merupakan estimasi tentang berapa lama lagi (Siklus) suatu komponen atau sistem dapat berfungsi dengan baik sebelum diperlukan perbaikan atau penggantian.\n",
        "\n",
        "- Menghapus sensor yang flat (tanpa variasi). Membuang fitur (sensor) yang tidak mengandung informasi karena nilainya selalu konstan (standar deviasi = 0).\n",
        "Sensor seperti ini tidak berguna untuk model karena tidak membantu membedakan antara data yang sehat atau mendekati kerusakan.\n",
        "\n",
        "- Normalisasi fitur numerik, Melakukan normalisasi fitur (scaling ke rentang 0–1) menggunakan MinMaxScaler agar Semua fitur berada dalam skala yang sama."
      ]
    },
    {
      "cell_type": "code",
      "execution_count": 18,
      "metadata": {
        "id": "Og8pGV0-iDLz"
      },
      "outputs": [
        {
          "name": "stdout",
          "output_type": "stream",
          "text": [
            "Sensor yang dihapus karena flat: ['sensor_1', 'sensor_10', 'sensor_18', 'sensor_19']\n"
          ]
        },
        {
          "data": {
            "text/html": [
              "<div>\n",
              "<style scoped>\n",
              "    .dataframe tbody tr th:only-of-type {\n",
              "        vertical-align: middle;\n",
              "    }\n",
              "\n",
              "    .dataframe tbody tr th {\n",
              "        vertical-align: top;\n",
              "    }\n",
              "\n",
              "    .dataframe thead th {\n",
              "        text-align: right;\n",
              "    }\n",
              "</style>\n",
              "<table border=\"1\" class=\"dataframe\">\n",
              "  <thead>\n",
              "    <tr style=\"text-align: right;\">\n",
              "      <th></th>\n",
              "      <th>unit</th>\n",
              "      <th>time_in_cycles</th>\n",
              "      <th>op_setting_1</th>\n",
              "      <th>op_setting_2</th>\n",
              "      <th>op_setting_3</th>\n",
              "      <th>sensor_2</th>\n",
              "      <th>sensor_3</th>\n",
              "      <th>sensor_4</th>\n",
              "      <th>sensor_5</th>\n",
              "      <th>sensor_6</th>\n",
              "      <th>...</th>\n",
              "      <th>sensor_11</th>\n",
              "      <th>sensor_12</th>\n",
              "      <th>sensor_13</th>\n",
              "      <th>sensor_14</th>\n",
              "      <th>sensor_15</th>\n",
              "      <th>sensor_16</th>\n",
              "      <th>sensor_17</th>\n",
              "      <th>sensor_20</th>\n",
              "      <th>sensor_21</th>\n",
              "      <th>RUL</th>\n",
              "    </tr>\n",
              "  </thead>\n",
              "  <tbody>\n",
              "    <tr>\n",
              "      <th>0</th>\n",
              "      <td>1</td>\n",
              "      <td>1</td>\n",
              "      <td>0.459770</td>\n",
              "      <td>0.166667</td>\n",
              "      <td>0.0</td>\n",
              "      <td>0.183735</td>\n",
              "      <td>0.406802</td>\n",
              "      <td>0.309757</td>\n",
              "      <td>0.0</td>\n",
              "      <td>1.0</td>\n",
              "      <td>...</td>\n",
              "      <td>0.369048</td>\n",
              "      <td>0.633262</td>\n",
              "      <td>0.205882</td>\n",
              "      <td>0.199608</td>\n",
              "      <td>0.363986</td>\n",
              "      <td>0.0</td>\n",
              "      <td>0.333333</td>\n",
              "      <td>0.713178</td>\n",
              "      <td>0.724662</td>\n",
              "      <td>191</td>\n",
              "    </tr>\n",
              "    <tr>\n",
              "      <th>1</th>\n",
              "      <td>1</td>\n",
              "      <td>2</td>\n",
              "      <td>0.609195</td>\n",
              "      <td>0.250000</td>\n",
              "      <td>0.0</td>\n",
              "      <td>0.283133</td>\n",
              "      <td>0.453019</td>\n",
              "      <td>0.352633</td>\n",
              "      <td>0.0</td>\n",
              "      <td>1.0</td>\n",
              "      <td>...</td>\n",
              "      <td>0.380952</td>\n",
              "      <td>0.765458</td>\n",
              "      <td>0.279412</td>\n",
              "      <td>0.162813</td>\n",
              "      <td>0.411312</td>\n",
              "      <td>0.0</td>\n",
              "      <td>0.333333</td>\n",
              "      <td>0.666667</td>\n",
              "      <td>0.731014</td>\n",
              "      <td>190</td>\n",
              "    </tr>\n",
              "    <tr>\n",
              "      <th>2</th>\n",
              "      <td>1</td>\n",
              "      <td>3</td>\n",
              "      <td>0.252874</td>\n",
              "      <td>0.750000</td>\n",
              "      <td>0.0</td>\n",
              "      <td>0.343373</td>\n",
              "      <td>0.369523</td>\n",
              "      <td>0.370527</td>\n",
              "      <td>0.0</td>\n",
              "      <td>1.0</td>\n",
              "      <td>...</td>\n",
              "      <td>0.250000</td>\n",
              "      <td>0.795309</td>\n",
              "      <td>0.220588</td>\n",
              "      <td>0.171793</td>\n",
              "      <td>0.357445</td>\n",
              "      <td>0.0</td>\n",
              "      <td>0.166667</td>\n",
              "      <td>0.627907</td>\n",
              "      <td>0.621375</td>\n",
              "      <td>189</td>\n",
              "    </tr>\n",
              "    <tr>\n",
              "      <th>3</th>\n",
              "      <td>1</td>\n",
              "      <td>4</td>\n",
              "      <td>0.540230</td>\n",
              "      <td>0.500000</td>\n",
              "      <td>0.0</td>\n",
              "      <td>0.343373</td>\n",
              "      <td>0.256159</td>\n",
              "      <td>0.331195</td>\n",
              "      <td>0.0</td>\n",
              "      <td>1.0</td>\n",
              "      <td>...</td>\n",
              "      <td>0.166667</td>\n",
              "      <td>0.889126</td>\n",
              "      <td>0.294118</td>\n",
              "      <td>0.174889</td>\n",
              "      <td>0.166603</td>\n",
              "      <td>0.0</td>\n",
              "      <td>0.333333</td>\n",
              "      <td>0.573643</td>\n",
              "      <td>0.662386</td>\n",
              "      <td>188</td>\n",
              "    </tr>\n",
              "    <tr>\n",
              "      <th>4</th>\n",
              "      <td>1</td>\n",
              "      <td>5</td>\n",
              "      <td>0.390805</td>\n",
              "      <td>0.333333</td>\n",
              "      <td>0.0</td>\n",
              "      <td>0.349398</td>\n",
              "      <td>0.257467</td>\n",
              "      <td>0.404625</td>\n",
              "      <td>0.0</td>\n",
              "      <td>1.0</td>\n",
              "      <td>...</td>\n",
              "      <td>0.255952</td>\n",
              "      <td>0.746269</td>\n",
              "      <td>0.235294</td>\n",
              "      <td>0.174734</td>\n",
              "      <td>0.402078</td>\n",
              "      <td>0.0</td>\n",
              "      <td>0.416667</td>\n",
              "      <td>0.589147</td>\n",
              "      <td>0.704502</td>\n",
              "      <td>187</td>\n",
              "    </tr>\n",
              "  </tbody>\n",
              "</table>\n",
              "<p>5 rows × 23 columns</p>\n",
              "</div>"
            ],
            "text/plain": [
              "   unit  time_in_cycles  op_setting_1  op_setting_2  op_setting_3  sensor_2  \\\n",
              "0     1               1      0.459770      0.166667           0.0  0.183735   \n",
              "1     1               2      0.609195      0.250000           0.0  0.283133   \n",
              "2     1               3      0.252874      0.750000           0.0  0.343373   \n",
              "3     1               4      0.540230      0.500000           0.0  0.343373   \n",
              "4     1               5      0.390805      0.333333           0.0  0.349398   \n",
              "\n",
              "   sensor_3  sensor_4  sensor_5  sensor_6  ...  sensor_11  sensor_12  \\\n",
              "0  0.406802  0.309757       0.0       1.0  ...   0.369048   0.633262   \n",
              "1  0.453019  0.352633       0.0       1.0  ...   0.380952   0.765458   \n",
              "2  0.369523  0.370527       0.0       1.0  ...   0.250000   0.795309   \n",
              "3  0.256159  0.331195       0.0       1.0  ...   0.166667   0.889126   \n",
              "4  0.257467  0.404625       0.0       1.0  ...   0.255952   0.746269   \n",
              "\n",
              "   sensor_13  sensor_14  sensor_15  sensor_16  sensor_17  sensor_20  \\\n",
              "0   0.205882   0.199608   0.363986        0.0   0.333333   0.713178   \n",
              "1   0.279412   0.162813   0.411312        0.0   0.333333   0.666667   \n",
              "2   0.220588   0.171793   0.357445        0.0   0.166667   0.627907   \n",
              "3   0.294118   0.174889   0.166603        0.0   0.333333   0.573643   \n",
              "4   0.235294   0.174734   0.402078        0.0   0.416667   0.589147   \n",
              "\n",
              "   sensor_21  RUL  \n",
              "0   0.724662  191  \n",
              "1   0.731014  190  \n",
              "2   0.621375  189  \n",
              "3   0.662386  188  \n",
              "4   0.704502  187  \n",
              "\n",
              "[5 rows x 23 columns]"
            ]
          },
          "execution_count": 18,
          "metadata": {},
          "output_type": "execute_result"
        }
      ],
      "source": [
        "# Tambahkan kolom RUL (Remaining Useful Life)\n",
        "rul = df.groupby('unit')['time_in_cycles'].max().reset_index()\n",
        "rul.columns = ['unit', 'max_cycle']\n",
        "df = df.merge(rul, on='unit', how='left')\n",
        "df['RUL'] = df['max_cycle'] - df['time_in_cycles']\n",
        "df.drop('max_cycle', axis=1, inplace=True)\n",
        "\n",
        "# Hilangkan sensor yang flat (tidak ada variasi) atau redundan\n",
        "sensor_to_drop = []\n",
        "for col in df.columns:\n",
        "    if 'sensor_' in col:\n",
        "        if df[col].std() == 0:\n",
        "            sensor_to_drop.append(col)\n",
        "\n",
        "df.drop(columns=sensor_to_drop, inplace=True)\n",
        "\n",
        "print(\"Sensor yang dihapus karena flat:\", sensor_to_drop)\n",
        "\n",
        "# Normalisasi fitur numerik (opsional, tergantung model nanti)\n",
        "from sklearn.preprocessing import MinMaxScaler\n",
        "\n",
        "feature_cols = [col for col in df.columns if col not in ['unit', 'time_in_cycles', 'RUL']]\n",
        "scaler = MinMaxScaler()\n",
        "df[feature_cols] = scaler.fit_transform(df[feature_cols])\n",
        "\n",
        "df.head()\n"
      ]
    }
  ],
  "metadata": {
    "accelerator": "GPU",
    "colab": {
      "gpuType": "T4",
      "provenance": []
    },
    "kernelspec": {
      "display_name": ".venv",
      "language": "python",
      "name": "python3"
    },
    "language_info": {
      "codemirror_mode": {
        "name": "ipython",
        "version": 3
      },
      "file_extension": ".py",
      "mimetype": "text/x-python",
      "name": "python",
      "nbconvert_exporter": "python",
      "pygments_lexer": "ipython3",
      "version": "3.11.9"
    }
  },
  "nbformat": 4,
  "nbformat_minor": 0
}
